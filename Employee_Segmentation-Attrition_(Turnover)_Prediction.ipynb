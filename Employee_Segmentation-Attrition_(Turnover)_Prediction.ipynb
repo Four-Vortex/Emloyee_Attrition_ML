{
  "nbformat": 4,
  "nbformat_minor": 5,
  "metadata": {
    "kernelspec": {
      "display_name": "Python 3",
      "language": "python",
      "name": "python3"
    },
    "language_info": {
      "codemirror_mode": {
        "name": "ipython",
        "version": 3
      },
      "file_extension": ".py",
      "mimetype": "text/x-python",
      "name": "python",
      "nbconvert_exporter": "python",
      "pygments_lexer": "ipython3",
      "version": "3.8.8"
    },
    "colab": {
      "provenance": [],
      "collapsed_sections": [
        "a6dc8947",
        "49443e33",
        "19554528",
        "32d17295",
        "1a691323"
      ]
    }
  },
  "cells": [
    {
      "cell_type": "markdown",
      "metadata": {
        "id": "cf53c135"
      },
      "source": [
        "# Reading the CSV File"
      ],
      "id": "cf53c135"
    },
    {
      "cell_type": "code",
      "metadata": {
        "id": "f3773960"
      },
      "source": [
        "#Importing the required libraries\n",
        "import numpy as np\n",
        "import pandas as pd\n",
        "import matplotlib.pyplot as plt\n",
        "import seaborn as sns"
      ],
      "id": "f3773960",
      "execution_count": null,
      "outputs": []
    },
    {
      "cell_type": "code",
      "metadata": {
        "id": "192cada6"
      },
      "source": [
        "#reading the csv file\n",
        "df=pd.read_csv(r\"dataset.csv\")"
      ],
      "id": "192cada6",
      "execution_count": null,
      "outputs": []
    },
    {
      "cell_type": "code",
      "metadata": {
        "id": "f0e54213",
        "outputId": "b4583170-f4dc-45c5-f7fd-0cbeca7f65a4"
      },
      "source": [
        "#viewing the dataframe\n",
        "df.head()"
      ],
      "id": "f0e54213",
      "execution_count": null,
      "outputs": [
        {
          "data": {
            "text/html": [
              "<div>\n",
              "<style scoped>\n",
              "    .dataframe tbody tr th:only-of-type {\n",
              "        vertical-align: middle;\n",
              "    }\n",
              "\n",
              "    .dataframe tbody tr th {\n",
              "        vertical-align: top;\n",
              "    }\n",
              "\n",
              "    .dataframe thead th {\n",
              "        text-align: right;\n",
              "    }\n",
              "</style>\n",
              "<table border=\"1\" class=\"dataframe\">\n",
              "  <thead>\n",
              "    <tr style=\"text-align: right;\">\n",
              "      <th></th>\n",
              "      <th>satisfaction_level</th>\n",
              "      <th>last_evaluation</th>\n",
              "      <th>number_project</th>\n",
              "      <th>average_montly_hours</th>\n",
              "      <th>time_spend_company</th>\n",
              "      <th>Work_accident</th>\n",
              "      <th>left</th>\n",
              "      <th>promotion_last_5years</th>\n",
              "      <th>sales</th>\n",
              "      <th>salary</th>\n",
              "    </tr>\n",
              "  </thead>\n",
              "  <tbody>\n",
              "    <tr>\n",
              "      <th>0</th>\n",
              "      <td>0.38</td>\n",
              "      <td>0.53</td>\n",
              "      <td>2</td>\n",
              "      <td>157</td>\n",
              "      <td>3</td>\n",
              "      <td>0</td>\n",
              "      <td>1</td>\n",
              "      <td>0</td>\n",
              "      <td>sales</td>\n",
              "      <td>low</td>\n",
              "    </tr>\n",
              "    <tr>\n",
              "      <th>1</th>\n",
              "      <td>0.80</td>\n",
              "      <td>0.86</td>\n",
              "      <td>5</td>\n",
              "      <td>262</td>\n",
              "      <td>6</td>\n",
              "      <td>0</td>\n",
              "      <td>1</td>\n",
              "      <td>0</td>\n",
              "      <td>sales</td>\n",
              "      <td>medium</td>\n",
              "    </tr>\n",
              "    <tr>\n",
              "      <th>2</th>\n",
              "      <td>0.11</td>\n",
              "      <td>0.88</td>\n",
              "      <td>7</td>\n",
              "      <td>272</td>\n",
              "      <td>4</td>\n",
              "      <td>0</td>\n",
              "      <td>1</td>\n",
              "      <td>0</td>\n",
              "      <td>sales</td>\n",
              "      <td>medium</td>\n",
              "    </tr>\n",
              "    <tr>\n",
              "      <th>3</th>\n",
              "      <td>0.72</td>\n",
              "      <td>0.87</td>\n",
              "      <td>5</td>\n",
              "      <td>223</td>\n",
              "      <td>5</td>\n",
              "      <td>0</td>\n",
              "      <td>1</td>\n",
              "      <td>0</td>\n",
              "      <td>sales</td>\n",
              "      <td>low</td>\n",
              "    </tr>\n",
              "    <tr>\n",
              "      <th>4</th>\n",
              "      <td>0.37</td>\n",
              "      <td>0.52</td>\n",
              "      <td>2</td>\n",
              "      <td>159</td>\n",
              "      <td>3</td>\n",
              "      <td>0</td>\n",
              "      <td>1</td>\n",
              "      <td>0</td>\n",
              "      <td>sales</td>\n",
              "      <td>low</td>\n",
              "    </tr>\n",
              "  </tbody>\n",
              "</table>\n",
              "</div>"
            ],
            "text/plain": [
              "   satisfaction_level  last_evaluation  number_project  average_montly_hours  \\\n",
              "0                0.38             0.53               2                   157   \n",
              "1                0.80             0.86               5                   262   \n",
              "2                0.11             0.88               7                   272   \n",
              "3                0.72             0.87               5                   223   \n",
              "4                0.37             0.52               2                   159   \n",
              "\n",
              "   time_spend_company  Work_accident  left  promotion_last_5years  sales  \\\n",
              "0                   3              0     1                      0  sales   \n",
              "1                   6              0     1                      0  sales   \n",
              "2                   4              0     1                      0  sales   \n",
              "3                   5              0     1                      0  sales   \n",
              "4                   3              0     1                      0  sales   \n",
              "\n",
              "   salary  \n",
              "0     low  \n",
              "1  medium  \n",
              "2  medium  \n",
              "3     low  \n",
              "4     low  "
            ]
          },
          "execution_count": 3,
          "metadata": {},
          "output_type": "execute_result"
        }
      ]
    },
    {
      "cell_type": "code",
      "metadata": {
        "id": "c9d65be8",
        "outputId": "fb045bbf-78c4-4693-88ad-b9bdc410b8a4"
      },
      "source": [
        "#viewing the no.of rows and columns in the dataframe\n",
        "df.shape"
      ],
      "id": "c9d65be8",
      "execution_count": null,
      "outputs": [
        {
          "data": {
            "text/plain": [
              "(14999, 10)"
            ]
          },
          "execution_count": 4,
          "metadata": {},
          "output_type": "execute_result"
        }
      ]
    },
    {
      "cell_type": "code",
      "metadata": {
        "id": "e7ac416b",
        "outputId": "e4ca93af-3e11-4e83-971c-8495e2515051"
      },
      "source": [
        "#viewing all the datatypes\n",
        "df.dtypes"
      ],
      "id": "e7ac416b",
      "execution_count": null,
      "outputs": [
        {
          "data": {
            "text/plain": [
              "satisfaction_level       float64\n",
              "last_evaluation          float64\n",
              "number_project             int64\n",
              "average_montly_hours       int64\n",
              "time_spend_company         int64\n",
              "Work_accident              int64\n",
              "left                       int64\n",
              "promotion_last_5years      int64\n",
              "sales                     object\n",
              "salary                    object\n",
              "dtype: object"
            ]
          },
          "execution_count": 5,
          "metadata": {},
          "output_type": "execute_result"
        }
      ]
    },
    {
      "cell_type": "markdown",
      "metadata": {
        "id": "a6dc8947"
      },
      "source": [
        "# Data Preprocessing"
      ],
      "id": "a6dc8947"
    },
    {
      "cell_type": "code",
      "metadata": {
        "id": "15e8b2c5",
        "outputId": "ec207ca6-a667-4830-e70c-96b84ec0f21e"
      },
      "source": [
        "#all unique values of sales column\n",
        "df.sales.value_counts()"
      ],
      "id": "15e8b2c5",
      "execution_count": null,
      "outputs": [
        {
          "data": {
            "text/plain": [
              "sales          4140\n",
              "technical      2720\n",
              "support        2229\n",
              "IT             1227\n",
              "product_mng     902\n",
              "marketing       858\n",
              "RandD           787\n",
              "accounting      767\n",
              "hr              739\n",
              "management      630\n",
              "Name: sales, dtype: int64"
            ]
          },
          "execution_count": 6,
          "metadata": {},
          "output_type": "execute_result"
        }
      ]
    },
    {
      "cell_type": "code",
      "metadata": {
        "id": "959c2ea0",
        "outputId": "fb93c6fd-615d-4944-c4c2-ebe32802b037"
      },
      "source": [
        "#all unique values of salary column\n",
        "df.salary.value_counts()"
      ],
      "id": "959c2ea0",
      "execution_count": null,
      "outputs": [
        {
          "data": {
            "text/plain": [
              "low       7316\n",
              "medium    6446\n",
              "high      1237\n",
              "Name: salary, dtype: int64"
            ]
          },
          "execution_count": 7,
          "metadata": {},
          "output_type": "execute_result"
        }
      ]
    },
    {
      "cell_type": "code",
      "metadata": {
        "id": "cc0d75dc",
        "outputId": "adb6f1e0-63e0-4468-e596-e7aa2e648829"
      },
      "source": [
        "#checking the total null values\n",
        "df.isnull().sum()"
      ],
      "id": "cc0d75dc",
      "execution_count": null,
      "outputs": [
        {
          "data": {
            "text/plain": [
              "satisfaction_level       0\n",
              "last_evaluation          0\n",
              "number_project           0\n",
              "average_montly_hours     0\n",
              "time_spend_company       0\n",
              "Work_accident            0\n",
              "left                     0\n",
              "promotion_last_5years    0\n",
              "sales                    0\n",
              "salary                   0\n",
              "dtype: int64"
            ]
          },
          "execution_count": 8,
          "metadata": {},
          "output_type": "execute_result"
        }
      ]
    },
    {
      "cell_type": "code",
      "metadata": {
        "id": "4f82db91",
        "outputId": "abffc2c7-8f50-4129-be0d-f43c9d26057e"
      },
      "source": [
        "#checking the duplicate values\n",
        "df.duplicated().sum()"
      ],
      "id": "4f82db91",
      "execution_count": null,
      "outputs": [
        {
          "data": {
            "text/plain": [
              "3008"
            ]
          },
          "execution_count": 9,
          "metadata": {},
          "output_type": "execute_result"
        }
      ]
    },
    {
      "cell_type": "code",
      "metadata": {
        "id": "c45360d8"
      },
      "source": [
        "#removing the duplicate values\n",
        "df.drop_duplicates(keep='first',inplace=True)"
      ],
      "id": "c45360d8",
      "execution_count": null,
      "outputs": []
    },
    {
      "cell_type": "code",
      "metadata": {
        "id": "a12ae41b",
        "outputId": "2a5f17c5-0183-49c9-e3f0-cf1a6b0e26f5"
      },
      "source": [
        "#checking the duplicate values\n",
        "df.duplicated().sum()"
      ],
      "id": "a12ae41b",
      "execution_count": null,
      "outputs": [
        {
          "data": {
            "text/plain": [
              "0"
            ]
          },
          "execution_count": 11,
          "metadata": {},
          "output_type": "execute_result"
        }
      ]
    },
    {
      "cell_type": "code",
      "metadata": {
        "id": "7ea75751",
        "outputId": "ff8c4a53-3c04-4843-e341-6bfd4b1ada07"
      },
      "source": [
        "#viewing the no.of rows and columns in the dataframe\n",
        "df.shape"
      ],
      "id": "7ea75751",
      "execution_count": null,
      "outputs": [
        {
          "data": {
            "text/plain": [
              "(11991, 10)"
            ]
          },
          "execution_count": 12,
          "metadata": {},
          "output_type": "execute_result"
        }
      ]
    },
    {
      "cell_type": "code",
      "metadata": {
        "id": "c926ef7e",
        "outputId": "00263831-f8e2-45f2-a236-6f3f594b0ae9"
      },
      "source": [
        "#all unique values of Work_accident column\n",
        "df.Work_accident.value_counts()"
      ],
      "id": "c926ef7e",
      "execution_count": null,
      "outputs": [
        {
          "data": {
            "text/plain": [
              "0    10141\n",
              "1     1850\n",
              "Name: Work_accident, dtype: int64"
            ]
          },
          "execution_count": 13,
          "metadata": {},
          "output_type": "execute_result"
        }
      ]
    },
    {
      "cell_type": "code",
      "metadata": {
        "id": "8818ce37",
        "outputId": "d4adea58-581a-4ff9-ab5e-56e99719a228"
      },
      "source": [
        "#all unique values of promotion_last_5years column\n",
        "df.promotion_last_5years.value_counts()"
      ],
      "id": "8818ce37",
      "execution_count": null,
      "outputs": [
        {
          "data": {
            "text/plain": [
              "0    11788\n",
              "1      203\n",
              "Name: promotion_last_5years, dtype: int64"
            ]
          },
          "execution_count": 14,
          "metadata": {},
          "output_type": "execute_result"
        }
      ]
    },
    {
      "cell_type": "markdown",
      "metadata": {
        "id": "49443e33"
      },
      "source": [
        "# Splitting the data with the target column and then into train , test and validation datasets"
      ],
      "id": "49443e33"
    },
    {
      "cell_type": "code",
      "metadata": {
        "id": "d7cefb9b"
      },
      "source": [
        "#importing the required library\n",
        "from sklearn.model_selection import train_test_split"
      ],
      "id": "d7cefb9b",
      "execution_count": null,
      "outputs": []
    },
    {
      "cell_type": "code",
      "metadata": {
        "id": "98583e1e"
      },
      "source": [
        "#here the target column is the left column\n",
        "dftarget=df.left"
      ],
      "id": "98583e1e",
      "execution_count": null,
      "outputs": []
    },
    {
      "cell_type": "code",
      "metadata": {
        "id": "67b0f53f"
      },
      "source": [
        "#getting the modeldataframe\n",
        "df.drop('left',axis=1,inplace=True)"
      ],
      "id": "67b0f53f",
      "execution_count": null,
      "outputs": []
    },
    {
      "cell_type": "code",
      "metadata": {
        "id": "7fdacdae"
      },
      "source": [
        "#splitting the data into train and pre-test datasets\n",
        "x_train,pre_x_train,y_train,pre_y_test=train_test_split(df,dftarget,test_size=0.3,shuffle=True)"
      ],
      "id": "7fdacdae",
      "execution_count": null,
      "outputs": []
    },
    {
      "cell_type": "code",
      "metadata": {
        "id": "07ff78eb"
      },
      "source": [
        "#splitting the pre-test dataset in to validation and test datasets\n",
        "x_val,x_test,y_val,y_test=train_test_split(pre_x_train,pre_y_test,test_size=0.5,shuffle=True)"
      ],
      "id": "07ff78eb",
      "execution_count": null,
      "outputs": []
    },
    {
      "cell_type": "markdown",
      "metadata": {
        "id": "19554528"
      },
      "source": [
        "# EDA"
      ],
      "id": "19554528"
    },
    {
      "cell_type": "code",
      "metadata": {
        "id": "b215cced",
        "outputId": "0967fdae-8679-45b8-93ef-0943330a951a"
      },
      "source": [
        "#checking for outliers in the target column\n",
        "sns.distplot(y_train)\n",
        "plt.show()\n",
        "print()\n",
        "sns.boxplot(y=y_train)\n",
        "plt.show()"
      ],
      "id": "b215cced",
      "execution_count": null,
      "outputs": [
        {
          "name": "stderr",
          "output_type": "stream",
          "text": [
            "E:\\anaconda3\\lib\\site-packages\\seaborn\\distributions.py:2557: FutureWarning: `distplot` is a deprecated function and will be removed in a future version. Please adapt your code to use either `displot` (a figure-level function with similar flexibility) or `histplot` (an axes-level function for histograms).\n",
            "  warnings.warn(msg, FutureWarning)\n"
          ]
        },
        {
          "data": {
            "image/png": "[encoded data removed]",
            "text/plain": [
              "<Figure size 432x288 with 1 Axes>"
            ]
          },
          "metadata": {
            "needs_background": "light"
          },
          "output_type": "display_data"
        },
        {
          "name": "stdout",
          "output_type": "stream",
          "text": [
            "\n"
          ]
        },
        {
          "data": {
            "image/png": "[encoded data removed]",
            "text/plain": [
              "<Figure size 432x288 with 1 Axes>"
            ]
          },
          "metadata": {
            "needs_background": "light"
          },
          "output_type": "display_data"
        }
      ]
    },
    {
      "cell_type": "markdown",
      "metadata": {
        "id": "32d17295"
      },
      "source": [
        "# Feature Engineering"
      ],
      "id": "32d17295"
    },
    {
      "cell_type": "code",
      "metadata": {
        "id": "5a511866"
      },
      "source": [
        "#importing the required libraries\n",
        "from sklearn.preprocessing import LabelEncoder\n",
        "from sklearn.feature_selection import VarianceThreshold"
      ],
      "id": "5a511866",
      "execution_count": null,
      "outputs": []
    },
    {
      "cell_type": "code",
      "metadata": {
        "id": "cdf5f0b2",
        "outputId": "ab97e854-10fd-42a1-c900-e12ed2d095dd"
      },
      "source": [
        "#label encode the salary column\n",
        "lsal=LabelEncoder()\n",
        "lsal.fit(x_train.salary)\n",
        "x_train['salary_encode']=lsal.transform(x_train['salary'])\n",
        "x_val['salary_encode']=lsal.transform(x_val['salary'])\n",
        "x_test['salary_encode']=lsal.transform(x_test['salary'])"
      ],
      "id": "cdf5f0b2",
      "execution_count": null,
      "outputs": [
        {
          "name": "stderr",
          "output_type": "stream",
          "text": [
            "<ipython-input-26-6471f1fdd880>:4: SettingWithCopyWarning: \n",
            "A value is trying to be set on a copy of a slice from a DataFrame.\n",
            "Try using .loc[row_indexer,col_indexer] = value instead\n",
            "\n",
            "See the caveats in the documentation: https://pandas.pydata.org/pandas-docs/stable/user_guide/indexing.html#returning-a-view-versus-a-copy\n",
            "  x_train['salary_encode']=lsal.transform(x_train['salary'])\n",
            "<ipython-input-26-6471f1fdd880>:5: SettingWithCopyWarning: \n",
            "A value is trying to be set on a copy of a slice from a DataFrame.\n",
            "Try using .loc[row_indexer,col_indexer] = value instead\n",
            "\n",
            "See the caveats in the documentation: https://pandas.pydata.org/pandas-docs/stable/user_guide/indexing.html#returning-a-view-versus-a-copy\n",
            "  x_val['salary_encode']=lsal.transform(x_val['salary'])\n",
            "<ipython-input-26-6471f1fdd880>:6: SettingWithCopyWarning: \n",
            "A value is trying to be set on a copy of a slice from a DataFrame.\n",
            "Try using .loc[row_indexer,col_indexer] = value instead\n",
            "\n",
            "See the caveats in the documentation: https://pandas.pydata.org/pandas-docs/stable/user_guide/indexing.html#returning-a-view-versus-a-copy\n",
            "  x_test['salary_encode']=lsal.transform(x_test['salary'])\n"
          ]
        }
      ]
    },
    {
      "cell_type": "code",
      "metadata": {
        "id": "8b204cac",
        "outputId": "cec1cfbf-be75-447a-9730-230ffbd47fbe"
      },
      "source": [
        "#label encode the sales column\n",
        "lsale=LabelEncoder()\n",
        "lsale.fit(x_train.sales)\n",
        "x_train['sales_encode']=lsale.transform(x_train['sales'])\n",
        "x_val['sales_encode']=lsale.transform(x_val['sales'])\n",
        "x_test['sales_encode']=lsale.transform(x_test['sales'])"
      ],
      "id": "8b204cac",
      "execution_count": null,
      "outputs": [
        {
          "name": "stderr",
          "output_type": "stream",
          "text": [
            "<ipython-input-27-2c92f3878de0>:4: SettingWithCopyWarning: \n",
            "A value is trying to be set on a copy of a slice from a DataFrame.\n",
            "Try using .loc[row_indexer,col_indexer] = value instead\n",
            "\n",
            "See the caveats in the documentation: https://pandas.pydata.org/pandas-docs/stable/user_guide/indexing.html#returning-a-view-versus-a-copy\n",
            "  x_train['sales_encode']=lsale.transform(x_train['sales'])\n",
            "<ipython-input-27-2c92f3878de0>:5: SettingWithCopyWarning: \n",
            "A value is trying to be set on a copy of a slice from a DataFrame.\n",
            "Try using .loc[row_indexer,col_indexer] = value instead\n",
            "\n",
            "See the caveats in the documentation: https://pandas.pydata.org/pandas-docs/stable/user_guide/indexing.html#returning-a-view-versus-a-copy\n",
            "  x_val['sales_encode']=lsale.transform(x_val['sales'])\n",
            "<ipython-input-27-2c92f3878de0>:6: SettingWithCopyWarning: \n",
            "A value is trying to be set on a copy of a slice from a DataFrame.\n",
            "Try using .loc[row_indexer,col_indexer] = value instead\n",
            "\n",
            "See the caveats in the documentation: https://pandas.pydata.org/pandas-docs/stable/user_guide/indexing.html#returning-a-view-versus-a-copy\n",
            "  x_test['sales_encode']=lsale.transform(x_test['sales'])\n"
          ]
        }
      ]
    },
    {
      "cell_type": "code",
      "metadata": {
        "id": "fe1d7977"
      },
      "source": [
        "#function to drop columns\n",
        "def dropcols(col ,traindf = x_train,valdf = x_val,testdf = x_test):\n",
        "    traindf.drop(col, axis =1,inplace=True)\n",
        "    valdf.drop(col,axis=1 , inplace=True)\n",
        "    testdf.drop(col,axis=1 , inplace=True)\n",
        "    return traindf,valdf ,testdf"
      ],
      "id": "fe1d7977",
      "execution_count": null,
      "outputs": []
    },
    {
      "cell_type": "code",
      "metadata": {
        "id": "f370bcd6",
        "outputId": "9571069b-3861-4d5d-a545-16d28ad057dc"
      },
      "source": [
        "#dropping the salary and sales columns\n",
        "x_train,x_val,x_test=dropcols('sales')\n",
        "x_train,x_val,x_test=dropcols('salary')"
      ],
      "id": "f370bcd6",
      "execution_count": null,
      "outputs": [
        {
          "name": "stderr",
          "output_type": "stream",
          "text": [
            "E:\\anaconda3\\lib\\site-packages\\pandas\\core\\frame.py:4308: SettingWithCopyWarning: \n",
            "A value is trying to be set on a copy of a slice from a DataFrame\n",
            "\n",
            "See the caveats in the documentation: https://pandas.pydata.org/pandas-docs/stable/user_guide/indexing.html#returning-a-view-versus-a-copy\n",
            "  return super().drop(\n"
          ]
        }
      ]
    },
    {
      "cell_type": "code",
      "metadata": {
        "id": "d23e0605",
        "outputId": "f5c980ce-cd33-48a9-ca71-7a013c3b420e"
      },
      "source": [
        "#checking the quasi-constant columns\n",
        "sel=VarianceThreshold(threshold=0.05)\n",
        "sel.fit(x_train)\n",
        "quarsi_constants=[x for x in x_train.columns if x not in x_train.columns[sel.get_support()]]\n",
        "quarsi_constants"
      ],
      "id": "d23e0605",
      "execution_count": null,
      "outputs": [
        {
          "data": {
            "text/plain": [
              "['last_evaluation', 'promotion_last_5years']"
            ]
          },
          "execution_count": 38,
          "metadata": {},
          "output_type": "execute_result"
        }
      ]
    },
    {
      "cell_type": "code",
      "metadata": {
        "id": "aad81162",
        "outputId": "f84ecde1-60d4-43ef-e706-dc110950d74b"
      },
      "source": [
        "#removing the quasi-constant columns\n",
        "x_train,x_val,x_test=dropcols(quarsi_constants)"
      ],
      "id": "aad81162",
      "execution_count": null,
      "outputs": [
        {
          "name": "stderr",
          "output_type": "stream",
          "text": [
            "E:\\anaconda3\\lib\\site-packages\\pandas\\core\\frame.py:4308: SettingWithCopyWarning: \n",
            "A value is trying to be set on a copy of a slice from a DataFrame\n",
            "\n",
            "See the caveats in the documentation: https://pandas.pydata.org/pandas-docs/stable/user_guide/indexing.html#returning-a-view-versus-a-copy\n",
            "  return super().drop(\n"
          ]
        }
      ]
    },
    {
      "cell_type": "markdown",
      "metadata": {
        "id": "1a691323"
      },
      "source": [
        "# Feature Selection"
      ],
      "id": "1a691323"
    },
    {
      "cell_type": "code",
      "metadata": {
        "id": "5525184f",
        "outputId": "5c1a726b-7e7e-458f-bb4d-9e7eb0905a75"
      },
      "source": [
        "# Displaying the Heatmap using the co-relation coefficient\n",
        "cormat=x_train.merge(y_train , on = x_train.index ).corr()\n",
        "plt.figure(figsize=(14,12))\n",
        "plt.title('Pearson Correlation of Features', y=1.05, size=15)\n",
        "sns.heatmap(cormat,linewidths=0.1,vmax=1,square=True, linecolor='white', annot=True)"
      ],
      "id": "5525184f",
      "execution_count": null,
      "outputs": [
        {
          "data": {
            "text/plain": [
              "<AxesSubplot:title={'center':'Pearson Correlation of Features'}>"
            ]
          },
          "execution_count": 43,
          "metadata": {},
          "output_type": "execute_result"
        },
        {
          "data": {
            "image/png": "[encoded data removed]",
            "text/plain": [
              "<Figure size 1008x864 with 2 Axes>"
            ]
          },
          "metadata": {
            "needs_background": "light"
          },
          "output_type": "display_data"
        }
      ]
    },
    {
      "cell_type": "code",
      "metadata": {
        "id": "25c200a7"
      },
      "source": [
        "#The Final features fetched after feature selection\n",
        "features=['number_project','average_montly_hours','time_spend_company']"
      ],
      "id": "25c200a7",
      "execution_count": null,
      "outputs": []
    },
    {
      "cell_type": "markdown",
      "metadata": {
        "id": "c47c1ffb"
      },
      "source": [
        "# Model Building"
      ],
      "id": "c47c1ffb"
    },
    {
      "cell_type": "code",
      "metadata": {
        "id": "58e275bf"
      },
      "source": [
        "#importing the required libraries\n",
        "from sklearn.neighbors import KNeighborsClassifier\n",
        "from sklearn.linear_model import LogisticRegression\n",
        "from sklearn.tree import DecisionTreeClassifier\n",
        "from sklearn.svm import SVC\n",
        "from xgboost import XGBClassifier\n",
        "from sklearn.ensemble import RandomForestRegressor ,RandomForestClassifier\n",
        "from sklearn.metrics import accuracy_score,mean_squared_error\n",
        "import pickle"
      ],
      "id": "58e275bf",
      "execution_count": null,
      "outputs": []
    },
    {
      "cell_type": "code",
      "metadata": {
        "id": "80af7265"
      },
      "source": [
        "#removing the non required columns\n",
        "cols=list(set(list(x_train.columns))-set(features))\n",
        "x_train,x_val,x_test=dropcols(cols)"
      ],
      "id": "80af7265",
      "execution_count": null,
      "outputs": []
    },
    {
      "cell_type": "code",
      "metadata": {
        "id": "cb86dc21"
      },
      "source": [
        "#reseting the indexes\n",
        "x_train=x_train.reset_index(drop=True)\n",
        "x_val=x_val.reset_index(drop=True)\n",
        "x_test=x_test.reset_index(drop=True)"
      ],
      "id": "cb86dc21",
      "execution_count": null,
      "outputs": []
    },
    {
      "cell_type": "code",
      "metadata": {
        "id": "8488577e"
      },
      "source": [
        "#model building using KNN algorithm and finding the rmse and mse values\n",
        "model1=KNeighborsClassifier()\n",
        "model1.fit(x_train,y_train)\n",
        "model1_predict=model1.predict(x_val)\n",
        "model1_rmse=mean_squared_error(y_val, model1_predict, squared=False)\n",
        "model1_mse=mean_squared_error(y_val, model1_predict, squared=True)"
      ],
      "id": "8488577e",
      "execution_count": null,
      "outputs": []
    },
    {
      "cell_type": "code",
      "metadata": {
        "id": "e0d971d2"
      },
      "source": [
        "#model building using Logistic Regression algorithm and finding the rmse and mse values\n",
        "model2=LogisticRegression()\n",
        "model2.fit(x_train,y_train)\n",
        "model2_predict=model2.predict(x_val)\n",
        "model2_rmse=mean_squared_error(y_val, model2_predict, squared=False)\n",
        "model2_mse=mean_squared_error(y_val, model2_predict, squared=True)"
      ],
      "id": "e0d971d2",
      "execution_count": null,
      "outputs": []
    },
    {
      "cell_type": "code",
      "metadata": {
        "id": "99f55226"
      },
      "source": [
        "#model building using Decision Tree algorithm and finding the rmse and mse values\n",
        "model3=DecisionTreeClassifier()\n",
        "model3.fit(x_train,y_train)\n",
        "model3_predict=model3.predict(x_val)\n",
        "model3_rmse=mean_squared_error(y_val, model3_predict, squared=False)\n",
        "model3_mse=mean_squared_error(y_val, model3_predict, squared=True)"
      ],
      "id": "99f55226",
      "execution_count": null,
      "outputs": []
    },
    {
      "cell_type": "code",
      "metadata": {
        "id": "4df06d79"
      },
      "source": [
        "#model building using SVM algorithm and finding the rmse and mse values\n",
        "model4=SVC()\n",
        "model4.fit(x_train,y_train)\n",
        "model4_predict=model4.predict(x_val)\n",
        "model4_rmse=mean_squared_error(y_val, model4_predict, squared=False)\n",
        "model4_mse=mean_squared_error(y_val, model4_predict, squared=True)"
      ],
      "id": "4df06d79",
      "execution_count": null,
      "outputs": []
    },
    {
      "cell_type": "code",
      "metadata": {
        "id": "a013d76c"
      },
      "source": [
        "#model building using Random Forest algorithm and finding the rmse and mse values\n",
        "model5=RandomForestClassifier()\n",
        "model5.fit(x_train,y_train)\n",
        "model5_predict=model5.predict(x_val)\n",
        "model5_rmse=mean_squared_error(y_val, model5_predict, squared=False)\n",
        "model5_mse=mean_squared_error(y_val, model5_predict, squared=True)"
      ],
      "id": "a013d76c",
      "execution_count": null,
      "outputs": []
    },
    {
      "cell_type": "code",
      "metadata": {
        "id": "6a8f8aee",
        "outputId": "cbdd924b-df42-4d5b-9a00-ef3ad92dfcb2"
      },
      "source": [
        "#model building using XGBoost algorithm and finding the rmse and mse values\n",
        "model6=XGBClassifier()\n",
        "model6.fit(x_train,y_train)\n",
        "model6_predict=model6.predict(x_val)\n",
        "model6_rmse=mean_squared_error(y_val, model6_predict, squared=False)\n",
        "model6_mse=mean_squared_error(y_val, model6_predict, squared=True)"
      ],
      "id": "6a8f8aee",
      "execution_count": null,
      "outputs": [
        {
          "name": "stderr",
          "output_type": "stream",
          "text": [
            "E:\\anaconda3\\lib\\site-packages\\xgboost\\sklearn.py:888: UserWarning: The use of label encoder in XGBClassifier is deprecated and will be removed in a future release. To remove this warning, do the following: 1) Pass option use_label_encoder=False when constructing XGBClassifier object; and 2) Encode your labels (y) as integers starting with 0, i.e. 0, 1, 2, ..., [num_class - 1].\n",
            "  warnings.warn(label_encoder_deprecation_msg, UserWarning)\n"
          ]
        },
        {
          "name": "stdout",
          "output_type": "stream",
          "text": [
            "[21:02:30] WARNING: ..\\src\\learner.cc:1061: Starting in XGBoost 1.3.0, the default evaluation metric used with the objective 'binary:logistic' was changed from 'error' to 'logloss'. Explicitly set eval_metric if you'd like to restore the old behavior.\n"
          ]
        }
      ]
    },
    {
      "cell_type": "code",
      "metadata": {
        "id": "d0d56067"
      },
      "source": [
        "#comparing all the models\n",
        "data={'model_name':['Logistic Regression model','SVC model','Decision Tree Classifier model','K-Nearest Neighbor model','Random Forest Classifier model','XGBoost model'],\n",
        "      'MSE':[model2_mse,model4_mse,model3_mse,model1_mse,model5_mse,model6_mse],\n",
        "      'RMSE':[model2_rmse,model4_rmse,model3_rmse,model1_rmse,model5_rmse,model6_rmse]}\n",
        "modelcom=pd.DataFrame(data)"
      ],
      "id": "d0d56067",
      "execution_count": null,
      "outputs": []
    },
    {
      "cell_type": "code",
      "metadata": {
        "id": "bb4e5680",
        "outputId": "58499540-23ba-4226-a464-625a31bc5c33"
      },
      "source": [
        "#view the modelcom dataframe\n",
        "modelcom.head(10)"
      ],
      "id": "bb4e5680",
      "execution_count": null,
      "outputs": [
        {
          "data": {
            "text/html": [
              "<div>\n",
              "<style scoped>\n",
              "    .dataframe tbody tr th:only-of-type {\n",
              "        vertical-align: middle;\n",
              "    }\n",
              "\n",
              "    .dataframe tbody tr th {\n",
              "        vertical-align: top;\n",
              "    }\n",
              "\n",
              "    .dataframe thead th {\n",
              "        text-align: right;\n",
              "    }\n",
              "</style>\n",
              "<table border=\"1\" class=\"dataframe\">\n",
              "  <thead>\n",
              "    <tr style=\"text-align: right;\">\n",
              "      <th></th>\n",
              "      <th>model_name</th>\n",
              "      <th>MSE</th>\n",
              "      <th>RMSE</th>\n",
              "    </tr>\n",
              "  </thead>\n",
              "  <tbody>\n",
              "    <tr>\n",
              "      <th>0</th>\n",
              "      <td>Logistic Regression model</td>\n",
              "      <td>0.175653</td>\n",
              "      <td>0.419110</td>\n",
              "    </tr>\n",
              "    <tr>\n",
              "      <th>1</th>\n",
              "      <td>SVC model</td>\n",
              "      <td>0.163424</td>\n",
              "      <td>0.404257</td>\n",
              "    </tr>\n",
              "    <tr>\n",
              "      <th>2</th>\n",
              "      <td>Decision Tree Classifier model</td>\n",
              "      <td>0.046137</td>\n",
              "      <td>0.214795</td>\n",
              "    </tr>\n",
              "    <tr>\n",
              "      <th>3</th>\n",
              "      <td>K-Nearest Neighbor model</td>\n",
              "      <td>0.046693</td>\n",
              "      <td>0.216085</td>\n",
              "    </tr>\n",
              "    <tr>\n",
              "      <th>4</th>\n",
              "      <td>Random Forest Classifier model</td>\n",
              "      <td>0.045025</td>\n",
              "      <td>0.212191</td>\n",
              "    </tr>\n",
              "    <tr>\n",
              "      <th>5</th>\n",
              "      <td>XGBoost model</td>\n",
              "      <td>0.041690</td>\n",
              "      <td>0.204181</td>\n",
              "    </tr>\n",
              "  </tbody>\n",
              "</table>\n",
              "</div>"
            ],
            "text/plain": [
              "                       model_name       MSE      RMSE\n",
              "0       Logistic Regression model  0.175653  0.419110\n",
              "1                       SVC model  0.163424  0.404257\n",
              "2  Decision Tree Classifier model  0.046137  0.214795\n",
              "3        K-Nearest Neighbor model  0.046693  0.216085\n",
              "4  Random Forest Classifier model  0.045025  0.212191\n",
              "5                   XGBoost model  0.041690  0.204181"
            ]
          },
          "execution_count": 70,
          "metadata": {},
          "output_type": "execute_result"
        }
      ]
    },
    {
      "cell_type": "code",
      "metadata": {
        "id": "28e2637a"
      },
      "source": [
        "#saving the model\n",
        "filename = 'model.h5'\n",
        "pickle.dump(model6, open(filename, 'wb'))"
      ],
      "id": "28e2637a",
      "execution_count": null,
      "outputs": []
    },
    {
      "cell_type": "code",
      "metadata": {
        "id": "ab05803c",
        "outputId": "e56f281c-db11-4009-f607-bfbfd8165858"
      },
      "source": [
        "#Model testing\n",
        "test_predict=model6.predict(x_test)\n",
        "model_rmse=mean_squared_error(y_test, test_predict, squared=False)\n",
        "model_mse=mean_squared_error(y_test, test_predict, squared=True)\n",
        "print(f\"The MSE value on the test data is {model_mse} and RMSE value is {model_rmse}\")"
      ],
      "id": "ab05803c",
      "execution_count": null,
      "outputs": [
        {
          "name": "stdout",
          "output_type": "stream",
          "text": [
            "The MSE value on the test data is 0.05113952195664258 and RMSE value is 0.2261404916343877\n"
          ]
        }
      ]
    },
    {
      "cell_type": "markdown",
      "metadata": {
        "id": "9704f462"
      },
      "source": [
        "# Prediction on the given set"
      ],
      "id": "9704f462"
    },
    {
      "cell_type": "code",
      "metadata": {
        "id": "c036eb0b",
        "outputId": "29f0f35f-5434-4c8c-d458-b4316887f2e9"
      },
      "source": [
        "#predict on user values\n",
        "print(f\"Plese input the given values and predict whether the employee will leave or retain in the upcoming year\\n\")\n",
        "number_project=eval(input(\"Enter the number of projects done by the employee\\n\"))\n",
        "average_montly_hours=eval(input(\"Enter the average monthly hours spend by the employee\\n\"))\n",
        "time_spend_company=eval(input(\"Enter the time spend by the employee\\n\"))\n",
        "dfpredict={'number_project':[number_project],'average_montly_hours':[average_montly_hours],'time_spend_company':[time_spend_company]}\n",
        "prediction=pd.DataFrame.from_dict(dfpredict)\n",
        "value_predict=model6.predict(prediction)\n",
        "if(value_predict[0]==0):\n",
        "    print(\"\\nBased on the given data the employee will retain in the company.\")\n",
        "else:\n",
        "    print(\"\\nBased on the given data the employee will leave the company.\")"
      ],
      "id": "c036eb0b",
      "execution_count": null,
      "outputs": [
        {
          "name": "stdout",
          "output_type": "stream",
          "text": [
            "Plese input the given values and predict whether the employee will leave or retain in the upcoming year\n",
            "\n",
            "Enter the number of projects done by the employee\n",
            "5\n",
            "Enter the average monthly hours spend by the employee\n",
            "200\n",
            "Enter the time spend by the employee\n",
            "4\n",
            "\n",
            "Based on the given data the employee will retain in the company.\n"
          ]
        }
      ]
    }
  ]
}